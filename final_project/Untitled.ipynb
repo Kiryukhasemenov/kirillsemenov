{
 "cells": [
  {
   "cell_type": "code",
   "execution_count": 1,
   "metadata": {},
   "outputs": [
    {
     "ename": "TypeError",
     "evalue": "not_rand() takes 0 positional arguments but 1 was given",
     "output_type": "error",
     "traceback": [
      "\u001b[1;31m---------------------------------------------------------------------------\u001b[0m",
      "\u001b[1;31mTypeError\u001b[0m                                 Traceback (most recent call last)",
      "\u001b[1;32m<ipython-input-1-d939cb7e50c9>\u001b[0m in \u001b[0;36m<module>\u001b[1;34m()\u001b[0m\n\u001b[0;32m     74\u001b[0m     \u001b[0mmodel\u001b[0m \u001b[1;33m=\u001b[0m \u001b[0mtrain\u001b[0m\u001b[1;33m(\u001b[0m\u001b[1;34m'tolstoy.txt'\u001b[0m\u001b[1;33m)\u001b[0m\u001b[1;33m\u001b[0m\u001b[0m\n\u001b[0;32m     75\u001b[0m     \u001b[1;32mfor\u001b[0m \u001b[0mi\u001b[0m \u001b[1;32min\u001b[0m \u001b[0mrange\u001b[0m\u001b[1;33m(\u001b[0m\u001b[1;36m10\u001b[0m\u001b[1;33m)\u001b[0m\u001b[1;33m:\u001b[0m\u001b[1;33m\u001b[0m\u001b[0m\n\u001b[1;32m---> 76\u001b[1;33m         \u001b[0mprint\u001b[0m \u001b[1;33m(\u001b[0m\u001b[0mgenerate_sentence\u001b[0m\u001b[1;33m(\u001b[0m\u001b[0mmodel\u001b[0m\u001b[1;33m)\u001b[0m\u001b[1;33m)\u001b[0m\u001b[1;33m\u001b[0m\u001b[0m\n\u001b[0m",
      "\u001b[1;32m<ipython-input-1-d939cb7e50c9>\u001b[0m in \u001b[0;36mgenerate_sentence\u001b[1;34m(model)\u001b[0m\n\u001b[0;32m     63\u001b[0m     \u001b[0mt0\u001b[0m\u001b[1;33m,\u001b[0m \u001b[0mt1\u001b[0m \u001b[1;33m=\u001b[0m \u001b[1;34m'$'\u001b[0m\u001b[1;33m,\u001b[0m \u001b[1;34m'$'\u001b[0m\u001b[1;33m\u001b[0m\u001b[0m\n\u001b[0;32m     64\u001b[0m     \u001b[1;32mwhile\u001b[0m \u001b[1;36m1\u001b[0m\u001b[1;33m:\u001b[0m\u001b[1;33m\u001b[0m\u001b[0m\n\u001b[1;32m---> 65\u001b[1;33m         \u001b[0mt0\u001b[0m\u001b[1;33m,\u001b[0m \u001b[0mt1\u001b[0m \u001b[1;33m=\u001b[0m \u001b[0mt1\u001b[0m\u001b[1;33m,\u001b[0m \u001b[0mnot_rand\u001b[0m\u001b[1;33m(\u001b[0m\u001b[0mmodel\u001b[0m\u001b[1;33m[\u001b[0m\u001b[0mt0\u001b[0m\u001b[1;33m,\u001b[0m \u001b[0mt1\u001b[0m\u001b[1;33m]\u001b[0m\u001b[1;33m)\u001b[0m\u001b[1;33m\u001b[0m\u001b[0m\n\u001b[0m\u001b[0;32m     66\u001b[0m         \u001b[1;32mif\u001b[0m \u001b[0mt1\u001b[0m \u001b[1;33m==\u001b[0m \u001b[1;34m'$'\u001b[0m\u001b[1;33m:\u001b[0m \u001b[1;32mbreak\u001b[0m\u001b[1;33m\u001b[0m\u001b[0m\n\u001b[0;32m     67\u001b[0m         \u001b[1;32mif\u001b[0m \u001b[0mt1\u001b[0m \u001b[1;32min\u001b[0m \u001b[1;33m(\u001b[0m\u001b[1;34m'.!?,;:'\u001b[0m\u001b[1;33m)\u001b[0m \u001b[1;32mor\u001b[0m \u001b[0mt0\u001b[0m \u001b[1;33m==\u001b[0m \u001b[1;34m'$'\u001b[0m\u001b[1;33m:\u001b[0m\u001b[1;33m\u001b[0m\u001b[0m\n",
      "\u001b[1;31mTypeError\u001b[0m: not_rand() takes 0 positional arguments but 1 was given"
     ]
    }
   ],
   "source": [
    "import re\n",
    "from random import uniform\n",
    "from collections import defaultdict\n",
    "\n",
    "r_alphabet = re.compile(u'[а-яА-Я0-9-]+|[.,:;?!]+')\n",
    "\n",
    "def gen_lines(corpus):\n",
    "#    data = open(corpus)\n",
    "#    for line in data:\n",
    "#        yield line.decode('utf-8').lower()\n",
    "    with open(corpus, 'r', encoding='utf-8') as src:\n",
    "        data=src.readlines()\n",
    "    #data = open(corpus)\n",
    "    for line in data:\n",
    "        yield line.lower()\n",
    "\n",
    "def gen_tokens(lines):\n",
    "    for line in lines:\n",
    "        for token in r_alphabet.findall(line):\n",
    "            yield token\n",
    "\n",
    "def gen_trigrams(tokens):\n",
    "    t0, t1 = '$', '$'\n",
    "    for t2 in tokens:\n",
    "        yield t0, t1, t2\n",
    "        if t2 in '.!?':\n",
    "            yield t1, t2, '$'\n",
    "            yield t2, '$','$'\n",
    "            t0, t1 = '$', '$'\n",
    "        else:\n",
    "            t0, t1 = t1, t2\n",
    "\n",
    "def train(corpus):\n",
    "    lines = gen_lines(corpus)\n",
    "    tokens = gen_tokens(lines)\n",
    "    trigrams = gen_trigrams(tokens)\n",
    "\n",
    "    bi, tri = defaultdict(lambda: 0.0), defaultdict(lambda: 0.0)\n",
    "\n",
    "    for t0, t1, t2 in trigrams:\n",
    "        bi[t0, t1] += 1\n",
    "        tri[t0, t1, t2] += 1\n",
    "\n",
    "    model = {}\n",
    "    for (t0, t1, t2), freq in tri.items():\n",
    "        if (t0, t1) in model:\n",
    "            model[t0, t1].append((t2, freq/bi[t0, t1]))\n",
    "        else:\n",
    "            model[t0, t1] = [(t2, freq/bi[t0, t1])]\n",
    "    return model\n",
    "def not_rand(text):\n",
    "    seq=input('Введите предложение ').split()\n",
    "    sum_, freq_ = 0,0\n",
    "    for item, freq in seq:\n",
    "        sum_+= freq\n",
    "    rnd = uniform(0, sum_)\n",
    "    for token, freq in seq:\n",
    "        freq_ += freq\n",
    "        if rnd < freq_:\n",
    "            return token\n",
    "def generate_sentence(model):\n",
    "    phrase = ''\n",
    "    t0, t1 = '$', '$'\n",
    "    while 1:\n",
    "        t0, t1 = t1, not_rand(model[t0, t1])\n",
    "        if t1 == '$': break\n",
    "        if t1 in ('.!?,;:') or t0 == '$':\n",
    "            phrase += t1\n",
    "        else:\n",
    "            phrase += ' ' + t1\n",
    "    return phrase.capitalize()\n",
    "\n",
    "if __name__ == '__main__':\n",
    "    model = train('tolstoy.txt')\n",
    "    for i in range(10):\n",
    "        print (generate_sentence(model))"
   ]
  },
  {
   "cell_type": "code",
   "execution_count": null,
   "metadata": {
    "collapsed": true
   },
   "outputs": [],
   "source": []
  }
 ],
 "metadata": {
  "kernelspec": {
   "display_name": "Python 3",
   "language": "python",
   "name": "python3"
  },
  "language_info": {
   "codemirror_mode": {
    "name": "ipython",
    "version": 3
   },
   "file_extension": ".py",
   "mimetype": "text/x-python",
   "name": "python",
   "nbconvert_exporter": "python",
   "pygments_lexer": "ipython3",
   "version": "3.6.1"
  }
 },
 "nbformat": 4,
 "nbformat_minor": 2
}
